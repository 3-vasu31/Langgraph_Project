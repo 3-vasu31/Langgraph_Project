{
 "cells": [
  {
   "cell_type": "code",
   "execution_count": 42,
   "id": "94ae848d",
   "metadata": {},
   "outputs": [],
   "source": [
    "from langchain_google_genai import ChatGoogleGenerativeAI\n",
    "from dotenv import load_dotenv\n",
    "from langchain_community.tools import GoogleSerperRun\n",
    "from typing import TypedDict, Annotated\n",
    "from langgraph.graph import add_messages, StateGraph, END\n",
    "from langgraph.prebuilt import ToolNode\n",
    "from langchain_community.utilities import GoogleSerperAPIWrapper\n",
    "import os"
   ]
  },
  {
   "cell_type": "code",
   "execution_count": null,
   "id": "6e22b94d",
   "metadata": {},
   "outputs": [],
   "source": [
    "class AgentState(TypedDict):\n",
    "    messages: Annotated[list, add_messages]\n",
    "\n",
    "load_dotenv()\n",
    "serper_api_key = os.getenv(\"SERPER_API_KEY\")\n",
    "\n",
    "\n",
    "serper_wrapper = GoogleSerperAPIWrapper(serper_api_key=serper_api_key)\n",
    "\n",
    "\n",
    "search_tool = GoogleSerperRun(api_wrapper=serper_wrapper)\n",
    "\n",
    "tools = [search_tool]\n",
    "\n",
    "llm = ChatGoogleGenerativeAI(model=\"gemini-1.5-flash\")\n",
    "llm_with_tools = llm.bind_tools(tools=tools)\n"
   ]
  },
  {
   "cell_type": "code",
   "execution_count": 44,
   "id": "10fd496f",
   "metadata": {},
   "outputs": [],
   "source": [
    "# load_dotenv()\n",
    "\n",
    "\n",
    "# serper_api_key = os.getenv(\"SERPER_API_KEY\")\n",
    "\n",
    "\n",
    "# search_tool = GoogleSerperRun(api_key=serper_api_key)\n",
    "# tools = [search_tool]\n",
    "\n",
    "# llm = ChatGoogleGenerativeAI(model=\"gemini-1.5-flash\")\n",
    "# llm_with_tools = llm.bind_tools(tools = tools)"
   ]
  },
  {
   "cell_type": "code",
   "execution_count": 45,
   "id": "81ab1af3",
   "metadata": {},
   "outputs": [],
   "source": [
    "def model(state: AgentState):\n",
    "    return{\n",
    "        \"messages\": [llm_with_tools.invoke(state[\"messages\"])]\n",
    "    }"
   ]
  },
  {
   "cell_type": "code",
   "execution_count": 46,
   "id": "43a364f0",
   "metadata": {},
   "outputs": [],
   "source": [
    "def tools_router(state: AgentState):\n",
    "    last_message = state[\"messages\"][-1]\n",
    "    if hasattr(last_message, \"tool_calls\") and len(last_message.tool_calls) > 0:\n",
    "        return \"tool_node\"\n",
    "    else:\n",
    "        return \"end\" "
   ]
  },
  {
   "cell_type": "code",
   "execution_count": 47,
   "id": "2304b871",
   "metadata": {},
   "outputs": [],
   "source": [
    "tool_node = ToolNode(tools = tools)"
   ]
  },
  {
   "cell_type": "code",
   "execution_count": 48,
   "id": "28cd5a49",
   "metadata": {},
   "outputs": [
    {
     "data": {
      "text/plain": [
       "<langgraph.graph.state.StateGraph at 0x1da3db81650>"
      ]
     },
     "execution_count": 48,
     "metadata": {},
     "output_type": "execute_result"
    }
   ],
   "source": [
    "\n",
    "\n",
    "graph = StateGraph(AgentState)\n",
    "graph.add_node(\"model\", model)\n",
    "graph.add_node(\"tool_node\", tool_node)\n",
    "graph.set_entry_point(\"model\")\n",
    "graph.add_conditional_edges(\"model\", tools_router, {\"tool_node\": \"tool_node\", \"end\": END})\n",
    "graph.add_edge(\"tool_node\", \"model\")"
   ]
  },
  {
   "cell_type": "code",
   "execution_count": 49,
   "id": "df7710a8",
   "metadata": {},
   "outputs": [],
   "source": [
    "app = graph.compile()"
   ]
  },
  {
   "cell_type": "code",
   "execution_count": 50,
   "id": "0ee1a567",
   "metadata": {},
   "outputs": [
    {
     "data": {
      "image/png": "[encoded data removed]",
      "text/plain": [
       "<IPython.core.display.Image object>"
      ]
     },
     "metadata": {},
     "output_type": "display_data"
    }
   ],
   "source": [
    "from IPython.display import Image, display\n",
    "from langchain_core.runnables.graph import MermaidDrawMethod\n",
    "\n",
    "display(\n",
    "    Image(\n",
    "        app.get_graph().draw_mermaid_png(\n",
    "            draw_method= MermaidDrawMethod.API\n",
    "        )\n",
    "    )\n",
    ")"
   ]
  },
  {
   "cell_type": "code",
   "execution_count": null,
   "id": "4b076083",
   "metadata": {},
   "outputs": [
    {
     "name": "stdout",
     "output_type": "stream",
     "text": [
      "{'messages': [HumanMessage(content='Tell me some current news, about US tariffs on EU', additional_kwargs={}, response_metadata={}, id='a72624f9-2028-495f-b366-5fd0411eb67f')]}\n",
      "{'messages': [HumanMessage(content='Tell me some current news, about US tariffs on EU', additional_kwargs={}, response_metadata={}, id='a72624f9-2028-495f-b366-5fd0411eb67f'), AIMessage(content='', additional_kwargs={'function_call': {'name': 'google_serper', 'arguments': '{\"query\": \"US tariffs on EU\"}'}}, response_metadata={'prompt_feedback': {'block_reason': 0, 'safety_ratings': []}, 'finish_reason': 'STOP', 'model_name': 'gemini-1.5-flash', 'safety_ratings': []}, id='run--5155e736-93d0-4d66-af6b-e642dfb60993-0', tool_calls=[{'name': 'google_serper', 'args': {'query': 'US tariffs on EU'}, 'id': '8475bd89-fc16-4b81-863b-af4821a5c4f7', 'type': 'tool_call'}], usage_metadata={'input_tokens': 46, 'output_tokens': 9, 'total_tokens': 55, 'input_token_details': {'cache_read': 0}})]}\n",
      "{'messages': [HumanMessage(content='Tell me some current news, about US tariffs on EU', additional_kwargs={}, response_metadata={}, id='a72624f9-2028-495f-b366-5fd0411eb67f'), AIMessage(content='', additional_kwargs={'function_call': {'name': 'google_serper', 'arguments': '{\"query\": \"US tariffs on EU\"}'}}, response_metadata={'prompt_feedback': {'block_reason': 0, 'safety_ratings': []}, 'finish_reason': 'STOP', 'model_name': 'gemini-1.5-flash', 'safety_ratings': []}, id='run--5155e736-93d0-4d66-af6b-e642dfb60993-0', tool_calls=[{'name': 'google_serper', 'args': {'query': 'US tariffs on EU'}, 'id': '8475bd89-fc16-4b81-863b-af4821a5c4f7', 'type': 'tool_call'}], usage_metadata={'input_tokens': 46, 'output_tokens': 9, 'total_tokens': 55, 'input_token_details': {'cache_read': 0}}), ToolMessage(content='A 30% tariff will almost certainly trigger a trade war, even a 15% tariff will be difficult to “eat” (the now widely used term for absorbing ... \"The US announcement of 30% tariffs on goods imported from the European Union is concerning and not the way forward. The European Commission can ... President Donald Trump has announced he\\'s levying tariffs of 30% against the European Union and Mexico starting Aug. 1. Donald Trump announced on Saturday that goods imported from both the European Union and Mexico will face a 30% US tariff rate starting 1 August, ... President Trump on Saturday posted letters threatening the European Union and Mexico with 30% tariffs as of August 1. The 30 percent tariffs on goods from Mexico and the European Union announced by President Trump on Saturday apparently do not apply to imported ... A first round of retaliatory EU tariffs on €21.5 billion in imports from the U.S. is due to enter into force at 12:01 a.m. on Tuesday. The bloc ...', name='google_serper', id='f93283ec-1ee1-4e15-a8a4-aa1652b058c7', tool_call_id='8475bd89-fc16-4b81-863b-af4821a5c4f7')]}\n",
      "{'messages': [HumanMessage(content='Tell me some current news, about US tariffs on EU', additional_kwargs={}, response_metadata={}, id='a72624f9-2028-495f-b366-5fd0411eb67f'), AIMessage(content='', additional_kwargs={'function_call': {'name': 'google_serper', 'arguments': '{\"query\": \"US tariffs on EU\"}'}}, response_metadata={'prompt_feedback': {'block_reason': 0, 'safety_ratings': []}, 'finish_reason': 'STOP', 'model_name': 'gemini-1.5-flash', 'safety_ratings': []}, id='run--5155e736-93d0-4d66-af6b-e642dfb60993-0', tool_calls=[{'name': 'google_serper', 'args': {'query': 'US tariffs on EU'}, 'id': '8475bd89-fc16-4b81-863b-af4821a5c4f7', 'type': 'tool_call'}], usage_metadata={'input_tokens': 46, 'output_tokens': 9, 'total_tokens': 55, 'input_token_details': {'cache_read': 0}}), ToolMessage(content='A 30% tariff will almost certainly trigger a trade war, even a 15% tariff will be difficult to “eat” (the now widely used term for absorbing ... \"The US announcement of 30% tariffs on goods imported from the European Union is concerning and not the way forward. The European Commission can ... President Donald Trump has announced he\\'s levying tariffs of 30% against the European Union and Mexico starting Aug. 1. Donald Trump announced on Saturday that goods imported from both the European Union and Mexico will face a 30% US tariff rate starting 1 August, ... President Trump on Saturday posted letters threatening the European Union and Mexico with 30% tariffs as of August 1. The 30 percent tariffs on goods from Mexico and the European Union announced by President Trump on Saturday apparently do not apply to imported ... A first round of retaliatory EU tariffs on €21.5 billion in imports from the U.S. is due to enter into force at 12:01 a.m. on Tuesday. The bloc ...', name='google_serper', id='f93283ec-1ee1-4e15-a8a4-aa1652b058c7', tool_call_id='8475bd89-fc16-4b81-863b-af4821a5c4f7'), AIMessage(content=\"Based on my search results, the US imposing tariffs on the EU is a complex and evolving situation.  There have been announcements of tariffs as high as 30%, although the exact implementation and scope remain unclear.  These tariffs have the potential to trigger retaliatory measures from the EU, leading to a trade war.  The situation is constantly developing, so it's best to consult up-to-date news sources for the most current information.\", additional_kwargs={}, response_metadata={'prompt_feedback': {'block_reason': 0, 'safety_ratings': []}, 'finish_reason': 'STOP', 'model_name': 'gemini-1.5-flash', 'safety_ratings': []}, id='run--b157bdb2-6fe8-47e8-8c95-a3ca7e4912d8-0', usage_metadata={'input_tokens': 283, 'output_tokens': 92, 'total_tokens': 375, 'input_token_details': {'cache_read': 0}})]}\n"
     ]
    }
   ],
   "source": [
    "# using stream_mode = \"values\" which will concatenate all the previous messages.\n",
    "input = {\n",
    "    \"messages\": [\"Tell me some current news, about US tariffs on EU\"]\n",
    "}\n",
    "\n",
    "events = app.stream(input = input, stream_mode = \"values\")\n",
    "\n",
    "for event in events:\n",
    "    print(event)"
   ]
  },
  {
   "cell_type": "code",
   "execution_count": null,
   "id": "eec574ba",
   "metadata": {},
   "outputs": [
    {
     "name": "stdout",
     "output_type": "stream",
     "text": [
      "{'model': {'messages': [AIMessage(content='', additional_kwargs={'function_call': {'name': 'google_serper', 'arguments': '{\"query\": \"US tariffs on EU\"}'}}, response_metadata={'prompt_feedback': {'block_reason': 0, 'safety_ratings': []}, 'finish_reason': 'STOP', 'model_name': 'gemini-1.5-flash', 'safety_ratings': []}, id='run--545d1725-a48f-4c05-8d5d-0490df611648-0', tool_calls=[{'name': 'google_serper', 'args': {'query': 'US tariffs on EU'}, 'id': 'a885a635-662d-4004-941b-0b9335b454d4', 'type': 'tool_call'}], usage_metadata={'input_tokens': 46, 'output_tokens': 9, 'total_tokens': 55, 'input_token_details': {'cache_read': 0}})]}}\n",
      "{'tool_node': {'messages': [ToolMessage(content='A 30% tariff will almost certainly trigger a trade war, even a 15% tariff will be difficult to “eat” (the now widely used term for absorbing ... \"The US announcement of 30% tariffs on goods imported from the European Union is concerning and not the way forward. The European Commission can ... President Donald Trump has announced he\\'s levying tariffs of 30% against the European Union and Mexico starting Aug. 1. May 23: Trump threatens a 50% tax on all imports from the EU as well as a 25% tariff on smartphones unless those products are made in America. President Trump on Saturday posted letters threatening the European Union and Mexico with 30% tariffs as of August 1. Donald Trump announced on Saturday that goods imported from both the European Union and Mexico will face a 30% US tariff rate starting 1 August, ... The 30 percent tariffs on goods from Mexico and the European Union announced by President Trump on Saturday apparently do not apply to imported ...', name='google_serper', id='890a5c02-8959-4706-9f92-ecf9f5781076', tool_call_id='a885a635-662d-4004-941b-0b9335b454d4')]}}\n",
      "{'model': {'messages': [AIMessage(content='Based on my search results, there have been several announcements and threats regarding US tariffs on the European Union.  President Trump announced, then later seemed to walk back,  a 30% tariff on goods from the EU (and Mexico).  There were also threats of a 50% tax on all EU imports and a 25% tariff on smartphones unless those products were made in the US.  The situation is fluid and the ultimate impact is unclear.  For the most up-to-date information, you should consult reputable news sources.', additional_kwargs={}, response_metadata={'prompt_feedback': {'block_reason': 0, 'safety_ratings': []}, 'finish_reason': 'STOP', 'model_name': 'gemini-1.5-flash', 'safety_ratings': []}, id='run--ade91b2b-a49c-4882-8952-e606655c39c6-0', usage_metadata={'input_tokens': 275, 'output_tokens': 114, 'total_tokens': 389, 'input_token_details': {'cache_read': 0}})]}}\n"
     ]
    }
   ],
   "source": [
    "# \"Updates\" it will give us only what is the new iteam updated in the list.\n",
    "input = {\n",
    "    \"messages\": [\"Tell me some current news, about US tariffs on EU\"]\n",
    "}\n",
    "events = app.stream(input = input, stream_mode = \"updates\")\n",
    "\n",
    "for event in events:\n",
    "    print(event)"
   ]
  },
  {
   "cell_type": "code",
   "execution_count": 55,
   "id": "fd6274e1",
   "metadata": {},
   "outputs": [
    {
     "name": "stdout",
     "output_type": "stream",
     "text": [
      "{'event': 'on_chain_start', 'data': {'input': {'messages': ['Hi, how are you?']}}, 'name': 'LangGraph', 'tags': [], 'run_id': '0a9942ed-2f1d-4c52-be3d-436494a27d78', 'metadata': {}, 'parent_ids': []}\n",
      "{'event': 'on_chain_start', 'data': {'input': {'messages': [HumanMessage(content='Hi, how are you?', additional_kwargs={}, response_metadata={}, id='7efa1ac4-4f38-417d-950b-2410fb467d85')]}}, 'name': 'model', 'tags': ['graph:step:1'], 'run_id': '8d4398bc-b21f-47a9-b53b-bd76a4f41f78', 'metadata': {'langgraph_step': 1, 'langgraph_node': 'model', 'langgraph_triggers': ('branch:to:model',), 'langgraph_path': ('__pregel_pull', 'model'), 'langgraph_checkpoint_ns': 'model:0e9aa503-a01c-a3c2-3200-8c510955a7ad'}, 'parent_ids': ['0a9942ed-2f1d-4c52-be3d-436494a27d78']}\n",
      "{'event': 'on_chat_model_start', 'data': {'input': {'messages': [[HumanMessage(content='Hi, how are you?', additional_kwargs={}, response_metadata={}, id='7efa1ac4-4f38-417d-950b-2410fb467d85')]]}}, 'name': 'ChatGoogleGenerativeAI', 'tags': ['seq:step:1'], 'run_id': 'a9d5db27-e8c3-431a-aa03-f3a9ea5d125f', 'metadata': {'langgraph_step': 1, 'langgraph_node': 'model', 'langgraph_triggers': ('branch:to:model',), 'langgraph_path': ('__pregel_pull', 'model'), 'langgraph_checkpoint_ns': 'model:0e9aa503-a01c-a3c2-3200-8c510955a7ad', 'checkpoint_ns': 'model:0e9aa503-a01c-a3c2-3200-8c510955a7ad', 'ls_provider': 'google_genai', 'ls_model_name': 'gemini-1.5-flash', 'ls_model_type': 'chat', 'ls_temperature': 0.7}, 'parent_ids': ['0a9942ed-2f1d-4c52-be3d-436494a27d78', '8d4398bc-b21f-47a9-b53b-bd76a4f41f78']}\n",
      "{'event': 'on_chat_model_stream', 'data': {'chunk': AIMessageChunk(content='I', additional_kwargs={}, response_metadata={'safety_ratings': []}, id='run--a9d5db27-e8c3-431a-aa03-f3a9ea5d125f', usage_metadata={'input_tokens': 67, 'output_tokens': 0, 'total_tokens': 67, 'input_token_details': {'cache_read': 0}})}, 'run_id': 'a9d5db27-e8c3-431a-aa03-f3a9ea5d125f', 'name': 'ChatGoogleGenerativeAI', 'tags': ['seq:step:1'], 'metadata': {'langgraph_step': 1, 'langgraph_node': 'model', 'langgraph_triggers': ('branch:to:model',), 'langgraph_path': ('__pregel_pull', 'model'), 'langgraph_checkpoint_ns': 'model:0e9aa503-a01c-a3c2-3200-8c510955a7ad', 'checkpoint_ns': 'model:0e9aa503-a01c-a3c2-3200-8c510955a7ad', 'ls_provider': 'google_genai', 'ls_model_name': 'gemini-1.5-flash', 'ls_model_type': 'chat', 'ls_temperature': 0.7}, 'parent_ids': ['0a9942ed-2f1d-4c52-be3d-436494a27d78', '8d4398bc-b21f-47a9-b53b-bd76a4f41f78']}\n",
      "{'event': 'on_chat_model_stream', 'data': {'chunk': AIMessageChunk(content=\"'m doing well, thank you for asking! How are you today?\\n\", additional_kwargs={}, response_metadata={'safety_ratings': []}, id='run--a9d5db27-e8c3-431a-aa03-f3a9ea5d125f', usage_metadata={'input_tokens': 0, 'input_token_details': {'cache_read': 0}, 'total_tokens': 0, 'output_tokens': 0})}, 'run_id': 'a9d5db27-e8c3-431a-aa03-f3a9ea5d125f', 'name': 'ChatGoogleGenerativeAI', 'tags': ['seq:step:1'], 'metadata': {'langgraph_step': 1, 'langgraph_node': 'model', 'langgraph_triggers': ('branch:to:model',), 'langgraph_path': ('__pregel_pull', 'model'), 'langgraph_checkpoint_ns': 'model:0e9aa503-a01c-a3c2-3200-8c510955a7ad', 'checkpoint_ns': 'model:0e9aa503-a01c-a3c2-3200-8c510955a7ad', 'ls_provider': 'google_genai', 'ls_model_name': 'gemini-1.5-flash', 'ls_model_type': 'chat', 'ls_temperature': 0.7}, 'parent_ids': ['0a9942ed-2f1d-4c52-be3d-436494a27d78', '8d4398bc-b21f-47a9-b53b-bd76a4f41f78']}\n",
      "{'event': 'on_chat_model_stream', 'data': {'chunk': AIMessageChunk(content='', additional_kwargs={}, response_metadata={'finish_reason': 'STOP', 'model_name': 'gemini-1.5-flash', 'safety_ratings': []}, id='run--a9d5db27-e8c3-431a-aa03-f3a9ea5d125f', usage_metadata={'input_tokens': -26, 'input_token_details': {'cache_read': 0}, 'total_tokens': 0, 'output_tokens': 17})}, 'run_id': 'a9d5db27-e8c3-431a-aa03-f3a9ea5d125f', 'name': 'ChatGoogleGenerativeAI', 'tags': ['seq:step:1'], 'metadata': {'langgraph_step': 1, 'langgraph_node': 'model', 'langgraph_triggers': ('branch:to:model',), 'langgraph_path': ('__pregel_pull', 'model'), 'langgraph_checkpoint_ns': 'model:0e9aa503-a01c-a3c2-3200-8c510955a7ad', 'checkpoint_ns': 'model:0e9aa503-a01c-a3c2-3200-8c510955a7ad', 'ls_provider': 'google_genai', 'ls_model_name': 'gemini-1.5-flash', 'ls_model_type': 'chat', 'ls_temperature': 0.7}, 'parent_ids': ['0a9942ed-2f1d-4c52-be3d-436494a27d78', '8d4398bc-b21f-47a9-b53b-bd76a4f41f78']}\n",
      "{'event': 'on_chat_model_end', 'data': {'output': AIMessage(content=\"I'm doing well, thank you for asking! How are you today?\\n\", additional_kwargs={}, response_metadata={'safety_ratings': [], 'finish_reason': 'STOP', 'model_name': 'gemini-1.5-flash'}, id='run--a9d5db27-e8c3-431a-aa03-f3a9ea5d125f', usage_metadata={'input_tokens': 41, 'output_tokens': 17, 'total_tokens': 67, 'input_token_details': {'cache_read': 0}}), 'input': {'messages': [[HumanMessage(content='Hi, how are you?', additional_kwargs={}, response_metadata={}, id='7efa1ac4-4f38-417d-950b-2410fb467d85')]]}}, 'run_id': 'a9d5db27-e8c3-431a-aa03-f3a9ea5d125f', 'name': 'ChatGoogleGenerativeAI', 'tags': ['seq:step:1'], 'metadata': {'langgraph_step': 1, 'langgraph_node': 'model', 'langgraph_triggers': ('branch:to:model',), 'langgraph_path': ('__pregel_pull', 'model'), 'langgraph_checkpoint_ns': 'model:0e9aa503-a01c-a3c2-3200-8c510955a7ad', 'checkpoint_ns': 'model:0e9aa503-a01c-a3c2-3200-8c510955a7ad', 'ls_provider': 'google_genai', 'ls_model_name': 'gemini-1.5-flash', 'ls_model_type': 'chat', 'ls_temperature': 0.7}, 'parent_ids': ['0a9942ed-2f1d-4c52-be3d-436494a27d78', '8d4398bc-b21f-47a9-b53b-bd76a4f41f78']}\n",
      "{'event': 'on_chain_start', 'data': {'input': {'messages': [HumanMessage(content='Hi, how are you?', additional_kwargs={}, response_metadata={}, id='7efa1ac4-4f38-417d-950b-2410fb467d85'), AIMessage(content=\"I'm doing well, thank you for asking! How are you today?\\n\", additional_kwargs={}, response_metadata={'safety_ratings': [], 'finish_reason': 'STOP', 'model_name': 'gemini-1.5-flash'}, id='run--a9d5db27-e8c3-431a-aa03-f3a9ea5d125f', usage_metadata={'input_tokens': 41, 'output_tokens': 17, 'total_tokens': 67, 'input_token_details': {'cache_read': 0}})]}}, 'name': 'tools_router', 'tags': ['seq:step:3'], 'run_id': 'e364bc45-2306-49b7-bd30-9b6748b8dd40', 'metadata': {'langgraph_step': 1, 'langgraph_node': 'model', 'langgraph_triggers': ('branch:to:model',), 'langgraph_path': ('__pregel_pull', 'model'), 'langgraph_checkpoint_ns': 'model:0e9aa503-a01c-a3c2-3200-8c510955a7ad'}, 'parent_ids': ['0a9942ed-2f1d-4c52-be3d-436494a27d78', '8d4398bc-b21f-47a9-b53b-bd76a4f41f78']}\n",
      "{'event': 'on_chain_end', 'data': {'output': 'end', 'input': {'messages': [HumanMessage(content='Hi, how are you?', additional_kwargs={}, response_metadata={}, id='7efa1ac4-4f38-417d-950b-2410fb467d85'), AIMessage(content=\"I'm doing well, thank you for asking! How are you today?\\n\", additional_kwargs={}, response_metadata={'safety_ratings': [], 'finish_reason': 'STOP', 'model_name': 'gemini-1.5-flash'}, id='run--a9d5db27-e8c3-431a-aa03-f3a9ea5d125f', usage_metadata={'input_tokens': 41, 'output_tokens': 17, 'total_tokens': 67, 'input_token_details': {'cache_read': 0}})]}}, 'run_id': 'e364bc45-2306-49b7-bd30-9b6748b8dd40', 'name': 'tools_router', 'tags': ['seq:step:3'], 'metadata': {'langgraph_step': 1, 'langgraph_node': 'model', 'langgraph_triggers': ('branch:to:model',), 'langgraph_path': ('__pregel_pull', 'model'), 'langgraph_checkpoint_ns': 'model:0e9aa503-a01c-a3c2-3200-8c510955a7ad'}, 'parent_ids': ['0a9942ed-2f1d-4c52-be3d-436494a27d78', '8d4398bc-b21f-47a9-b53b-bd76a4f41f78']}\n",
      "{'event': 'on_chain_stream', 'run_id': '8d4398bc-b21f-47a9-b53b-bd76a4f41f78', 'name': 'model', 'tags': ['graph:step:1'], 'metadata': {'langgraph_step': 1, 'langgraph_node': 'model', 'langgraph_triggers': ('branch:to:model',), 'langgraph_path': ('__pregel_pull', 'model'), 'langgraph_checkpoint_ns': 'model:0e9aa503-a01c-a3c2-3200-8c510955a7ad'}, 'data': {'chunk': {'messages': [AIMessage(content=\"I'm doing well, thank you for asking! How are you today?\\n\", additional_kwargs={}, response_metadata={'safety_ratings': [], 'finish_reason': 'STOP', 'model_name': 'gemini-1.5-flash'}, id='run--a9d5db27-e8c3-431a-aa03-f3a9ea5d125f', usage_metadata={'input_tokens': 41, 'output_tokens': 17, 'total_tokens': 67, 'input_token_details': {'cache_read': 0}})]}}, 'parent_ids': ['0a9942ed-2f1d-4c52-be3d-436494a27d78']}\n",
      "{'event': 'on_chain_end', 'data': {'output': {'messages': [AIMessage(content=\"I'm doing well, thank you for asking! How are you today?\\n\", additional_kwargs={}, response_metadata={'safety_ratings': [], 'finish_reason': 'STOP', 'model_name': 'gemini-1.5-flash'}, id='run--a9d5db27-e8c3-431a-aa03-f3a9ea5d125f', usage_metadata={'input_tokens': 41, 'output_tokens': 17, 'total_tokens': 67, 'input_token_details': {'cache_read': 0}})]}, 'input': {'messages': [HumanMessage(content='Hi, how are you?', additional_kwargs={}, response_metadata={}, id='7efa1ac4-4f38-417d-950b-2410fb467d85')]}}, 'run_id': '8d4398bc-b21f-47a9-b53b-bd76a4f41f78', 'name': 'model', 'tags': ['graph:step:1'], 'metadata': {'langgraph_step': 1, 'langgraph_node': 'model', 'langgraph_triggers': ('branch:to:model',), 'langgraph_path': ('__pregel_pull', 'model'), 'langgraph_checkpoint_ns': 'model:0e9aa503-a01c-a3c2-3200-8c510955a7ad'}, 'parent_ids': ['0a9942ed-2f1d-4c52-be3d-436494a27d78']}\n",
      "{'event': 'on_chain_stream', 'run_id': '0a9942ed-2f1d-4c52-be3d-436494a27d78', 'name': 'LangGraph', 'tags': [], 'metadata': {}, 'data': {'chunk': {'model': {'messages': [AIMessage(content=\"I'm doing well, thank you for asking! How are you today?\\n\", additional_kwargs={}, response_metadata={'safety_ratings': [], 'finish_reason': 'STOP', 'model_name': 'gemini-1.5-flash'}, id='run--a9d5db27-e8c3-431a-aa03-f3a9ea5d125f', usage_metadata={'input_tokens': 41, 'output_tokens': 17, 'total_tokens': 67, 'input_token_details': {'cache_read': 0}})]}}}, 'parent_ids': []}\n",
      "{'event': 'on_chain_end', 'data': {'output': {'messages': [HumanMessage(content='Hi, how are you?', additional_kwargs={}, response_metadata={}, id='7efa1ac4-4f38-417d-950b-2410fb467d85'), AIMessage(content=\"I'm doing well, thank you for asking! How are you today?\\n\", additional_kwargs={}, response_metadata={'safety_ratings': [], 'finish_reason': 'STOP', 'model_name': 'gemini-1.5-flash'}, id='run--a9d5db27-e8c3-431a-aa03-f3a9ea5d125f', usage_metadata={'input_tokens': 41, 'output_tokens': 17, 'total_tokens': 67, 'input_token_details': {'cache_read': 0}})]}}, 'run_id': '0a9942ed-2f1d-4c52-be3d-436494a27d78', 'name': 'LangGraph', 'tags': [], 'metadata': {}, 'parent_ids': []}\n"
     ]
    }
   ],
   "source": [
    "#streaming \n",
    "# no tool calls for now\n",
    "\n",
    "input = {\n",
    "    \"messages\": [\"Hi, how are you?\"]\n",
    "}\n",
    "\n",
    "events = app.astream_events(input = input, version= \"v2\")\n",
    "\n",
    "async for event in events:\n",
    "    print(event)\n"
   ]
  },
  {
   "cell_type": "code",
   "execution_count": 58,
   "id": "2bf43be6",
   "metadata": {},
   "outputs": [
    {
     "name": "stdout",
     "output_type": "stream",
     "text": [
      "I'm doing well, thank you for asking! How are you today?\n"
     ]
    }
   ],
   "source": [
    "input = {\n",
    "    \"messages\": [\"Hi, how are you?\"]\n",
    "}\n",
    "\n",
    "events = app.astream_events(input = input, version = \"v2\")\n",
    "\n",
    "async for event in events:\n",
    "    if event['event'] == \"on_chat_model_stream\":\n",
    "        print(event[\"data\"][\"chunk\"].content, end=\"\",flush=True)"
   ]
  },
  {
   "cell_type": "code",
   "execution_count": null,
   "id": "c01c29bf",
   "metadata": {},
   "outputs": [],
   "source": []
  }
 ],
 "metadata": {
  "kernelspec": {
   "display_name": "Lang",
   "language": "python",
   "name": "python3"
  },
  "language_info": {
   "codemirror_mode": {
    "name": "ipython",
    "version": 3
   },
   "file_extension": ".py",
   "mimetype": "text/x-python",
   "name": "python",
   "nbconvert_exporter": "python",
   "pygments_lexer": "ipython3",
   "version": "3.11.4"
  }
 },
 "nbformat": 4,
 "nbformat_minor": 5
}
